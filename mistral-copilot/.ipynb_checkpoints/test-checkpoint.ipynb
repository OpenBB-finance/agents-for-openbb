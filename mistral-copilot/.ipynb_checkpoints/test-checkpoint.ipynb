{
 "cells": [
  {
   "cell_type": "code",
   "execution_count": 13,
   "id": "bbb29091-65a0-4b57-a86a-938dab3785aa",
   "metadata": {},
   "outputs": [],
   "source": [
    "import httpx"
   ]
  },
  {
   "cell_type": "code",
   "execution_count": 11,
   "id": "5a5f376d-1fb5-4523-a19b-9762823dab08",
   "metadata": {},
   "outputs": [
    {
     "name": "stdout",
     "output_type": "stream",
     "text": [
      "The weather in Cape Town is quite windy today."
     ]
    }
   ],
   "source": [
    "from magentic import prompt, FunctionCall, AsyncStreamedStr, StreamedStr, prompt_chain, OpenaiChatModel\n",
    "from magentic.chat_model.litellm_chat_model import LitellmChatModel\n",
    "import os\n",
    "\n",
    "def get_weather(location: str) -> str:\n",
    "    \"\"\"Get the weather\"\"\"\n",
    "    return \"fookin windy yo faaaak yassis bru!\"\n",
    "\n",
    "@prompt_chain(\n",
    "    \"{query}\",\n",
    "    model=OpenaiChatModel(base_url=\"https://api.mistral.ai/v1/\",\n",
    "                          api_key=os.getenv(\"MISTRAL_API_KEY\"),\n",
    "                          model=\"mistral-large-latest\"\n",
    "                        ),\n",
    "    functions=[get_weather]\n",
    ")\n",
    "def mistral(query: str) -> FunctionCall | StreamedStr: ...\n",
    "\n",
    "for chunk in mistral(\"What is the weather in Cape Town?\"):\n",
    "    print(chunk, end=\"\", flush=True)"
   ]
  },
  {
   "cell_type": "code",
   "execution_count": 79,
   "id": "5116796d-b9fc-4629-9b19-9e4f65a4b40a",
   "metadata": {},
   "outputs": [
    {
     "name": "stdout",
     "output_type": "stream",
     "text": [
      "{'function': 'get_widget_data', 'input_arguments': {'widget_uuid': '7890-zxcq'}}\n"
     ]
    }
   ],
   "source": [
    "BASE_URL = \"http://localhost:7777\"\n",
    "\n",
    "messages = [\n",
    "    {\n",
    "        \"role\": \"human\",\n",
    "        \"content\": \"What is the stock price of NVDA?\"\n",
    "    }\n",
    "]\n",
    "\n",
    "widgets = [\n",
    "    {\n",
    "        \"uuid\": \"12345-abcde\",\n",
    "        \"name\": \"Stock price widget\",\n",
    "        \"description\": \"Contains the current stock price of a ticker\",\n",
    "        \"metadata\": {\n",
    "            \"ticker\": \"MSFT\"\n",
    "        }\n",
    "    },\n",
    "    {\n",
    "        \"uuid\": \"7890-zxcq\",\n",
    "        \"name\": \"Stock price widget\",\n",
    "        \"description\": \"Contains the current stock price of a ticker\",\n",
    "        \"metadata\": {\n",
    "            \"ticker\": \"NVDA\"\n",
    "        }\n",
    "    }\n",
    "]\n",
    "\n",
    "payload = {\n",
    "    \"messages\": messages,\n",
    "    \"widgets\": widgets\n",
    "}\n",
    "\n",
    "with httpx.stream(\"POST\", BASE_URL + \"/v1/query\", json=payload, timeout=120) as r:\n",
    "    r.read()\n",
    "    response = r.json()\n",
    "    print(response)"
   ]
  },
  {
   "cell_type": "code",
   "execution_count": 80,
   "id": "321ff16e-2ef1-408c-a77f-059375efc13c",
   "metadata": {},
   "outputs": [],
   "source": [
    "function_call_result = \"$99.95\"\n",
    "function_call_input_args = response[\"input_arguments\"]\n",
    "\n",
    "import json\n",
    "\n",
    "messages.append(\n",
    "    {\n",
    "        \"role\": \"ai\",\n",
    "        \"content\": json.dumps(response)\n",
    "    }\n",
    ")\n",
    "\n",
    "messages.append(\n",
    "    {\n",
    "        \"role\": \"tool\",\n",
    "        \"function\": \"get_widget_data\",\n",
    "        \"input_arguments\": function_call_input_args,\n",
    "        \"content\": function_call_result\n",
    "    }\n",
    ")"
   ]
  },
  {
   "cell_type": "code",
   "execution_count": 82,
   "id": "0aefa05a-9273-41cb-958e-2753d0b81ccd",
   "metadata": {},
   "outputs": [
    {
     "name": "stdout",
     "output_type": "stream",
     "text": [
      "{'role': 'human', 'content': 'What is the stock price of NVDA?'}\n",
      "{'role': 'ai', 'content': '{\"function\": \"get_widget_data\", \"input_arguments\": {\"widget_uuid\": \"7890-zxcq\"}}'}\n",
      "{'role': 'tool', 'function': 'get_widget_data', 'input_arguments': {'widget_uuid': '7890-zxcq'}, 'content': '$99.95'}\n",
      "The current stock price of NVDA is $99.95."
     ]
    }
   ],
   "source": [
    "with httpx.stream(\"POST\", BASE_URL + \"/v1/query\", json=payload, timeout=120) as r:\n",
    "    for chunk in r.iter_text():\n",
    "        print(chunk, end=\"\", flush=True)\n"
   ]
  },
  {
   "cell_type": "code",
   "execution_count": null,
   "id": "414d5ae0-3f37-45bc-b0f0-fbc2b4009882",
   "metadata": {},
   "outputs": [],
   "source": []
  }
 ],
 "metadata": {
  "kernelspec": {
   "display_name": "Python 3 (ipykernel)",
   "language": "python",
   "name": "python3"
  },
  "language_info": {
   "codemirror_mode": {
    "name": "ipython",
    "version": 3
   },
   "file_extension": ".py",
   "mimetype": "text/x-python",
   "name": "python",
   "nbconvert_exporter": "python",
   "pygments_lexer": "ipython3",
   "version": "3.11.8"
  }
 },
 "nbformat": 4,
 "nbformat_minor": 5
}
